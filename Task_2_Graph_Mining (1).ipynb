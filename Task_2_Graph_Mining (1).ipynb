{
  "cells": [
    {
      "cell_type": "markdown",
      "source": [
        "#**Assignment 3 and Project** \n",
        "**Big Data AnaLytics**\n",
        "\n",
        "\n",
        "---\n",
        "\n",
        "\n",
        "\n",
        "\n",
        "1.   Umair Ahmad [i21-2087]\n",
        "2.   Khadija Mahmood [i21-2313]      \n",
        "            \n",
        "                  \n",
        "\n",
        "\n",
        "\n",
        " "
      ],
      "metadata": {
        "id": "cplGGDMvBHyc"
      }
    },
    {
      "cell_type": "markdown",
      "source": [
        "#Introduction\n",
        "\n",
        "---\n",
        "\n",
        "**Learning Goals & Outcomes**\n",
        "To Learn to analyze substantial real-world big data of a social network (1.69GB in\n",
        "size).\n",
        "o Explore effective use of Apache Kafka to process data.\n",
        "o Applying graph mining algorithms on streaming data.\n",
        "o Dynamic Visualizations.\n",
        "\n"
      ],
      "metadata": {
        "id": "s0ooDELaDys7"
      }
    },
    {
      "cell_type": "markdown",
      "source": [
        "##Input Data\n",
        "\n",
        "Pokec is the most popular online social network in Slovakia. Pokec has been\n",
        "provided for more than 10 years and connects more than 1.6 million people. Datasets\n",
        "contain anonymized data of the whole network. Profile data contains gender, age,\n",
        "hobbies, interest, education, etc. Profile data are in the Slovak language. Friendships in\n",
        "Pokec are oriented.\n",
        "This social network has connected more than 1.6 million people and posses more\n",
        "than 50 attributes for each person."
      ],
      "metadata": {
        "id": "flmbv1VfEUMz"
      }
    },
    {
      "cell_type": "markdown",
      "source": [
        "#Part a. \n",
        "You need to apply three different graph mining algorithms. For example\n",
        "Clustering, Shortest Path, Classification, etc."
      ],
      "metadata": {
        "id": "9SHBZ6Sek54N"
      }
    },
    {
      "cell_type": "markdown",
      "source": [
        "#Installation of libraries"
      ],
      "metadata": {
        "id": "86VZhQzslVKq"
      }
    },
    {
      "cell_type": "code",
      "execution_count": null,
      "metadata": {
        "colab": {
          "base_uri": "https://localhost:8080/"
        },
        "id": "Ekyh2FbZKoFd",
        "outputId": "1fea744a-556d-40bb-b42a-3bb75e0d3019"
      },
      "outputs": [
        {
          "name": "stdout",
          "output_type": "stream",
          "text": [
            "Looking in indexes: https://pypi.org/simple, https://us-python.pkg.dev/colab-wheels/public/simple/\n",
            "Collecting scikit-network\n",
            "  Downloading scikit_network-0.26.0-cp37-cp37m-manylinux_2_17_x86_64.manylinux2014_x86_64.whl (8.1 MB)\n",
            "\u001b[K     |████████████████████████████████| 8.1 MB 29.4 MB/s \n",
            "\u001b[?25hRequirement already satisfied: numpy>=1.21.5 in /usr/local/lib/python3.7/dist-packages (from scikit-network) (1.21.6)\n",
            "Collecting scipy>=1.6.3\n",
            "  Downloading scipy-1.7.3-cp37-cp37m-manylinux_2_12_x86_64.manylinux2010_x86_64.whl (38.1 MB)\n",
            "\u001b[K     |████████████████████████████████| 38.1 MB 1.3 MB/s \n",
            "\u001b[?25hInstalling collected packages: scipy, scikit-network\n",
            "  Attempting uninstall: scipy\n",
            "    Found existing installation: scipy 1.4.1\n",
            "    Uninstalling scipy-1.4.1:\n",
            "      Successfully uninstalled scipy-1.4.1\n",
            "\u001b[31mERROR: pip's dependency resolver does not currently take into account all the packages that are installed. This behaviour is the source of the following dependency conflicts.\n",
            "albumentations 0.1.12 requires imgaug<0.2.7,>=0.2.5, but you have imgaug 0.2.9 which is incompatible.\u001b[0m\n",
            "Successfully installed scikit-network-0.26.0 scipy-1.7.3\n"
          ]
        }
      ],
      "source": [
        "!pip install scikit-network"
      ]
    },
    {
      "cell_type": "markdown",
      "source": [
        "#Importing Libraries"
      ],
      "metadata": {
        "id": "yOHxvsBxlapN"
      }
    },
    {
      "cell_type": "code",
      "execution_count": null,
      "metadata": {
        "id": "VR_VcAXO_RWr"
      },
      "outputs": [],
      "source": [
        "from IPython.display import SVG\n",
        "import numpy as np\n",
        "from sknetwork.data import karate_club, painters, movie_actor, load_netset\n",
        "from sknetwork.visualization import svg_graph, svg_digraph, svg_bigraph"
      ]
    },
    {
      "cell_type": "markdown",
      "source": [
        "#Task 2: Graph Mining\n",
        "a. You need to apply three different graph mining algorithms. For example\n",
        "Clustering, Shortest Path, Classification, etc."
      ],
      "metadata": {
        "id": "WNIiVOREGfJv"
      }
    },
    {
      "cell_type": "markdown",
      "source": [
        "##Shortest Path Algorithm\n",
        "\n",
        "**Bellman Ford algorithm** we used for shortest path as our graph data is unweighted.\n"
      ],
      "metadata": {
        "id": "cbBoNDXdGq3u"
      }
    },
    {
      "cell_type": "code",
      "source": [
        "import numpy as np\n",
        "from IPython.display import SVG"
      ],
      "metadata": {
        "id": "44pisfAP275g"
      },
      "execution_count": null,
      "outputs": []
    },
    {
      "cell_type": "markdown",
      "source": [
        "Definition of Function used for Bellman ford algorithms"
      ],
      "metadata": {
        "id": "prdOHfJ6ljcD"
      }
    },
    {
      "cell_type": "code",
      "execution_count": null,
      "metadata": {
        "id": "Wu8JmgqXspiY"
      },
      "outputs": [],
      "source": [
        "\n",
        "  \n",
        "def add_edge(adj, src, dest):\n",
        "\n",
        "\tadj[src].append(dest);\n",
        "\tadj[dest].append(src);\n",
        "\n",
        "# a modified version of BFS that stores predecessor\n",
        "# of each vertex in array p\n",
        "# and its distance from source in array d\n",
        "def BFS(adj, src, dest, v, pred, dist):\n",
        "\n",
        "\t# a queue to maintain queue of vertices whose\n",
        "\t# adjacency list is to be scanned as per normal\n",
        "\t# DFS algorithm\n",
        "\tqueue = []\n",
        "\n",
        "\t# boolean array visited[] which stores the\n",
        "\t# information whether ith vertex is reached\n",
        "\t# at least once in the Breadth first search\n",
        "\tvisited = [False for i in range(v)];\n",
        "\n",
        "\t# initially all vertices are unvisited\n",
        "\t# so v[i] for all i is false\n",
        "\t# and as no path is yet constructed\n",
        "\t# dist[i] for all i set to infinity\n",
        "\tfor i in range(v):\n",
        "\n",
        "\t\tdist[i] = 1000000\n",
        "\t\tpred[i] = -1;\n",
        "\t\n",
        "\t# now source is first to be visited and\n",
        "\t# distance from source to itself should be 0\n",
        "\tvisited[src] = True;\n",
        "\tdist[src] = 0;\n",
        "\tqueue.append(src);\n",
        "\n",
        "\t# standard BFS algorithm\n",
        "\twhile (len(queue) != 0):\n",
        "\t\tu = queue[0];\n",
        "\t\tqueue.pop(0);\n",
        "\t\tfor i in range(len(adj[u])):\n",
        "\t\t\n",
        "\t\t\tif (visited[adj[u][i]] == False):\n",
        "\t\t\t\tvisited[adj[u][i]] = True;\n",
        "\t\t\t\tdist[adj[u][i]] = dist[u] + 1;\n",
        "\t\t\t\tpred[adj[u][i]] = u;\n",
        "\t\t\t\tqueue.append(adj[u][i]);\n",
        "\n",
        "\t\t\t\t# We stop BFS when we find\n",
        "\t\t\t\t# destination.\n",
        "\t\t\t\tif (adj[u][i] == dest):\n",
        "\t\t\t\t\treturn True;\n",
        "\n",
        "\treturn False;\n",
        "\n",
        "# utility function to print the shortest distance\n",
        "# between source vertex and destination vertex\n",
        "def printShortestDistance(adj, s, dest, v):\n",
        "\t\n",
        "\t# predecessor[i] array stores predecessor of\n",
        "\t# i and distance array stores distance of i\n",
        "\t# from s\n",
        "\tpred=[0 for i in range(v)]\n",
        "\tdist=[0 for i in range(v)];\n",
        "\n",
        "\tif (BFS(adj, s, dest, v, pred, dist) == False):\n",
        "\t\tprint(\"Given source and destination are not connected\")\n",
        "\n",
        "\t# vector path stores the shortest path\n",
        "\tpath = []\n",
        "\tcrawl = dest;\n",
        "\tcrawl = dest;\n",
        "\tpath.append(crawl);\n",
        "\t\n",
        "\twhile (pred[crawl] != -1):\n",
        "\t\tpath.append(pred[crawl]);\n",
        "\t\tcrawl = pred[crawl];\n",
        "\t\n",
        "\n",
        "\t# distance from source is in distance array\n",
        "\tprint(\"Shortest path length is : \" + str(dist[dest]), end = '')\n",
        "\n",
        "\t# printing path from source to destination\n",
        "\tprint(\"\\nPath is : : \")\n",
        "\t\n",
        "\tfor i in range(len(path)-1, -1, -1):\n",
        "\t\tprint(path[i], end=' ')\n",
        "\t\t\n",
        "# Driver program to test above functions\n",
        "if __name__=='__main__':\n",
        "\t\n",
        "\t# no. of vertices\n",
        "\tv = 1632803+1;\n",
        "\n",
        "\t# array of vectors is used to store the graph\n",
        "\t# in the form of an adjacency list\n",
        "\tadj = [[] for i in range(v)];\n",
        "\n",
        "\t\n",
        "\n",
        "\t# This code is contributed by rutvik_56\n"
      ]
    },
    {
      "cell_type": "markdown",
      "source": [
        "Reading files from firebase"
      ],
      "metadata": {
        "id": "gZTkUlgflrpD"
      }
    },
    {
      "cell_type": "code",
      "source": [
        "with open('soc-pokec-relationships.txt', 'r') as f:  # Open file for read\n",
        "    for line in f:           # Read line-by-line\n",
        "        v1 = line.split('\\t')[0]\n",
        "        v2 = line.split('\\t')[1]\n",
        "        add_edge(adj, int(v1), int(v2));"
      ],
      "metadata": {
        "id": "untPZ-HPCu29"
      },
      "execution_count": null,
      "outputs": []
    },
    {
      "cell_type": "markdown",
      "source": [
        "Checking the results"
      ],
      "metadata": {
        "id": "MtDawNL1luq5"
      }
    },
    {
      "cell_type": "code",
      "source": [
        "source = 34\n",
        "dest = 1000;\n",
        "printShortestDistance(adj, source, dest, v);"
      ],
      "metadata": {
        "colab": {
          "base_uri": "https://localhost:8080/"
        },
        "id": "m0KPAG7o-9A2",
        "outputId": "e630ff29-12cc-41a0-9ffd-6400420e9a50"
      },
      "execution_count": null,
      "outputs": [
        {
          "output_type": "stream",
          "name": "stdout",
          "text": [
            "Shortest path length is : 3\n",
            "Path is : : \n",
            "34 2 28 1000 "
          ]
        }
      ]
    },
    {
      "cell_type": "markdown",
      "source": [
        "##Clustering\n",
        "\n",
        "We used **Louvain Clusstering** Algorithm for clustering unweighted graphs "
      ],
      "metadata": {
        "id": "eVhjnNuUHcyR"
      }
    },
    {
      "cell_type": "code",
      "source": [
        "pip install scikit-network"
      ],
      "metadata": {
        "id": "v38j_D52lfYN"
      },
      "execution_count": null,
      "outputs": []
    },
    {
      "cell_type": "code",
      "source": [
        "pip install --upgrade pip"
      ],
      "metadata": {
        "id": "r_nVZRjjlG_T"
      },
      "execution_count": null,
      "outputs": []
    },
    {
      "cell_type": "code",
      "source": [
        "from sknetwork.data import karate_club, painters, movie_actor\n",
        "from sknetwork.clustering import Louvain, modularity, bimodularity\n",
        "from sknetwork.linalg import normalize\n",
        "from sknetwork.utils import bipartite2undirected, membership_matrix\n",
        "from sknetwork.visualization import svg_graph, svg_digraph, svg_bigraph"
      ],
      "metadata": {
        "id": "xsiUUuE-Hv6z"
      },
      "execution_count": null,
      "outputs": []
    },
    {
      "cell_type": "code",
      "source": [
        "\n",
        "import random\n",
        "\n",
        "position = np.array([[round(random.uniform(-1.0, 1.0), 2), round(random.uniform(-1.0, 1.0), 2)] for x in range(1000)])"
      ],
      "metadata": {
        "id": "W_x6gbKWODZK"
      },
      "execution_count": null,
      "outputs": []
    },
    {
      "cell_type": "code",
      "source": [
        "labels_true = np.array([random.randint(0, 1) for i in range (1000)])"
      ],
      "metadata": {
        "id": "RdahRBh9sdAQ"
      },
      "execution_count": null,
      "outputs": []
    },
    {
      "cell_type": "code",
      "source": [
        "from scipy.sparse import random\n",
        "from scipy import stats\n",
        "from numpy.random import default_rng\n",
        "rng = default_rng()\n",
        "rvs = stats.poisson(100000, loc=10).rvs\n",
        "adjacency = random(1000, 1000, density=0.25, random_state=rng, data_rvs=rvs,format='csr')\n",
        "adjacency.A"
      ],
      "metadata": {
        "id": "o9Nm_j8hWC2o"
      },
      "execution_count": null,
      "outputs": []
    },
    {
      "cell_type": "code",
      "source": [
        "louvain = Louvain() # applying lovian\n",
        "labels = louvain.fit_transform(adjacency)"
      ],
      "metadata": {
        "id": "mU-WpMOdoMNp"
      },
      "execution_count": null,
      "outputs": []
    },
    {
      "cell_type": "code",
      "source": [
        "labels_unique, counts = np.unique(labels, return_counts=True)\n",
        "print(labels_unique, counts)"
      ],
      "metadata": {
        "colab": {
          "base_uri": "https://localhost:8080/"
        },
        "id": "PuIjtV3ooO5G",
        "outputId": "4030afc6-f199-4ef4-d734-b9adc09f466e"
      },
      "execution_count": null,
      "outputs": [
        {
          "output_type": "stream",
          "name": "stdout",
          "text": [
            "[0 1 2 3 4 5 6 7 8 9] [174 138 118 114 101  99  99  74  69  14]\n"
          ]
        }
      ]
    },
    {
      "cell_type": "code",
      "source": [
        "image = svg_graph(adjacency, position, labels=labels,width = 800,height = 600)\n",
        "SVG(image)"
      ],
      "metadata": {
        "id": "3b0pAnwDoQ93"
      },
      "execution_count": null,
      "outputs": []
    },
    {
      "cell_type": "code",
      "source": [
        "# metric\n",
        "modularity(adjacency, labels)"
      ],
      "metadata": {
        "colab": {
          "base_uri": "https://localhost:8080/"
        },
        "id": "NZa-gdJLoUZI",
        "outputId": "68e12857-3f56-4ea6-fcbd-817137e2526e"
      },
      "execution_count": null,
      "outputs": [
        {
          "output_type": "execute_result",
          "data": {
            "text/plain": [
              "0.029967306319437156"
            ]
          },
          "metadata": {},
          "execution_count": 13
        }
      ]
    },
    {
      "cell_type": "code",
      "source": [
        "# aggregate graph\n",
        "adjacency_aggregate = louvain.aggregate_"
      ],
      "metadata": {
        "id": "Qg6vGz-3os67"
      },
      "execution_count": null,
      "outputs": []
    },
    {
      "cell_type": "code",
      "source": [
        "\n",
        "average = normalize(membership_matrix(labels).T)\n",
        "position_aggregate = average.dot(position)\n",
        "labels_unique, counts = np.unique(labels, return_counts=True)"
      ],
      "metadata": {
        "id": "p1E7Z5DEovM_"
      },
      "execution_count": null,
      "outputs": []
    },
    {
      "cell_type": "markdown",
      "source": [
        "This image describe the no of nodes in one cluster"
      ],
      "metadata": {
        "id": "H7p9kri9tA_v"
      }
    },
    {
      "cell_type": "code",
      "source": [
        "image = svg_graph(adjacency_aggregate, position_aggregate, counts, labels=labels_unique, \n",
        "                  display_node_weight=True, node_weights=counts)\n",
        "SVG(image)"
      ],
      "metadata": {
        "id": "joVsTxPKoxce"
      },
      "execution_count": null,
      "outputs": []
    },
    {
      "cell_type": "code",
      "source": [
        "# soft clustering (here probability of label 1)\n",
        "scores = louvain.membership_[:,1].toarray().ravel()"
      ],
      "metadata": {
        "id": "Lt-ycoc0ozs2"
      },
      "execution_count": null,
      "outputs": []
    },
    {
      "cell_type": "code",
      "source": [
        "image = svg_graph(adjacency, position, scores=scores)\n",
        "SVG(image)"
      ],
      "metadata": {
        "id": "IkqdErHso4e5"
      },
      "execution_count": null,
      "outputs": []
    },
    {
      "cell_type": "markdown",
      "source": [
        "##Classification"
      ],
      "metadata": {
        "id": "31JvUbDcJj2t"
      }
    },
    {
      "cell_type": "code",
      "source": [
        "from sknetwork.data import karate_club, painters, movie_actor\n",
        "from sknetwork.classification import PageRankClassifier\n",
        "from sknetwork.visualization import svg_graph, svg_digraph, svg_bigraph"
      ],
      "metadata": {
        "id": "vyVYVRKIo6Kn"
      },
      "execution_count": null,
      "outputs": []
    },
    {
      "cell_type": "code",
      "source": [
        "seeds = {i: labels_true[i] for i in [0, 999]}"
      ],
      "metadata": {
        "id": "-RRRGpFAmvjI"
      },
      "execution_count": null,
      "outputs": []
    },
    {
      "cell_type": "code",
      "source": [
        "seeds"
      ],
      "metadata": {
        "colab": {
          "base_uri": "https://localhost:8080/"
        },
        "id": "nmthjs73pVPY",
        "outputId": "ea1355e9-e881-45c5-d823-4abb6f527e55"
      },
      "execution_count": null,
      "outputs": [
        {
          "output_type": "execute_result",
          "data": {
            "text/plain": [
              "{0: 0, 999: 1}"
            ]
          },
          "metadata": {},
          "execution_count": 21
        }
      ]
    },
    {
      "cell_type": "code",
      "source": [
        "pagerank = PageRankClassifier()\n",
        "labels_pred = pagerank.fit_transform(adjacency, seeds)"
      ],
      "metadata": {
        "id": "97smvi_mmzCO"
      },
      "execution_count": null,
      "outputs": []
    },
    {
      "cell_type": "code",
      "source": [
        "precision = np.round(np.mean(labels_pred == labels_true), 2)\n",
        "precision"
      ],
      "metadata": {
        "colab": {
          "base_uri": "https://localhost:8080/"
        },
        "id": "Pi1uaiefm1oQ",
        "outputId": "7cb147a4-828d-4fae-cbd4-db5c873810b0"
      },
      "execution_count": null,
      "outputs": [
        {
          "output_type": "execute_result",
          "data": {
            "text/plain": [
              "0.51"
            ]
          },
          "metadata": {},
          "execution_count": 23
        }
      ]
    },
    {
      "cell_type": "code",
      "source": [
        "image = svg_graph(adjacency, position, labels=labels_pred, seeds=seeds)\n",
        "SVG(image)"
      ],
      "metadata": {
        "id": "iMn96w_Wm4Uz"
      },
      "execution_count": null,
      "outputs": []
    },
    {
      "cell_type": "code",
      "source": [
        "# soft classification (here probability of label 1)\n",
        "label = 1\n",
        "membership = pagerank.membership_\n",
        "scores = membership[:,label].toarray().ravel()"
      ],
      "metadata": {
        "id": "DDkdmcQcnlVu"
      },
      "execution_count": null,
      "outputs": []
    },
    {
      "cell_type": "code",
      "source": [
        "scores"
      ],
      "metadata": {
        "id": "FQWm3LGWnt4O"
      },
      "execution_count": null,
      "outputs": []
    },
    {
      "cell_type": "code",
      "source": [
        "image = svg_graph(adjacency, position, scores=scores, seeds=seeds)\n",
        "SVG(image)"
      ],
      "metadata": {
        "id": "APMAE5t4nqo4"
      },
      "execution_count": null,
      "outputs": []
    },
    {
      "cell_type": "markdown",
      "source": [
        "#Analysis Report\n",
        "\n",
        "---\n",
        "\n",
        "\n",
        "\n",
        "we are assigned to perform graph mining algorithm on Relationship data.But the data we have is un-weighted data in which we dont have weights for the edges or we can say the distance between nodes. So firstly we were implementing dijkstra and other algorithms but we got to know about Bellmans ford algorithm for shortest path. After that clustering on unweighted graph data was challenge, then we implemented louvian algorithm which is specially for clustering unweighted graph data. Problem we faced for this was algorithm needs csr matrix for execution and our data from firebse was in the form of txt so we tranform data for algorithhms and got very good results as mentioned by the plots as well. we Applied pagerank algorithm for classifucation which was learning curve in this assignment."
      ],
      "metadata": {
        "id": "B56dLgenlyO4"
      }
    }
  ],
  "metadata": {
    "colab": {
      "name": "Task 2: Graph Mining.ipynb",
      "provenance": [],
      "collapsed_sections": [],
      "toc_visible": true
    },
    "kernelspec": {
      "display_name": "Python 3",
      "name": "python3"
    },
    "language_info": {
      "name": "python"
    }
  },
  "nbformat": 4,
  "nbformat_minor": 0
}