{
  "cells": [
    {
      "cell_type": "markdown",
      "source": [
        "#**Assignment 3 and Project** \n",
        "**Big Data AnaLytics**\n",
        "\n",
        "\n",
        "---\n",
        "\n",
        "\n",
        "\n",
        "\n",
        "1.   Umair Ahmad [i21-2087]\n",
        "2.   Khadija Mahmood [i21-2313]      \n",
        "            \n",
        "                  \n",
        "\n",
        "\n",
        "\n",
        " "
      ],
      "metadata": {
        "id": "cplGGDMvBHyc"
      }
    },
    {
      "cell_type": "markdown",
      "source": [
        "#Introduction\n",
        "\n",
        "---\n",
        "\n",
        "**Learning Goals & Outcomes**\n",
        "To Learn to analyze substantial real-world big data of a social network (1.69GB in\n",
        "size).\n",
        "o Explore effective use of Apache Kafka to process data.\n",
        "o Applying graph mining algorithms on streaming data.\n",
        "o Dynamic Visualizations.\n",
        "\n"
      ],
      "metadata": {
        "id": "s0ooDELaDys7"
      }
    },
    {
      "cell_type": "markdown",
      "source": [
        "##Input Data\n",
        "\n",
        "Pokec is the most popular online social network in Slovakia. Pokec has been\n",
        "provided for more than 10 years and connects more than 1.6 million people. Datasets\n",
        "contain anonymized data of the whole network. Profile data contains gender, age,\n",
        "hobbies, interest, education, etc. Profile data are in the Slovak language. Friendships in\n",
        "Pokec are oriented.\n",
        "This social network has connected more than 1.6 million people and posses more\n",
        "than 50 attributes for each person."
      ],
      "metadata": {
        "id": "flmbv1VfEUMz"
      }
    },
    {
      "cell_type": "markdown",
      "source": [
        "Installing librarires"
      ],
      "metadata": {
        "id": "PSGmLIhHaDOe"
      }
    },
    {
      "cell_type": "code",
      "execution_count": null,
      "metadata": {
        "id": "x0bOIi3kmnit"
      },
      "outputs": [],
      "source": [
        "!pip install firebase\n",
        "!pip install python_jwt \n",
        "!pip install gcloud\n",
        "!pip install sseclient\n",
        "!pip install pycryptodome\n",
        "! pip install requests_toolbelt"
      ]
    },
    {
      "cell_type": "markdown",
      "source": [
        "#Task 1 : Data streaming \n",
        "\n",
        "\n",
        "---\n",
        "\n"
      ],
      "metadata": {
        "id": "SRlVYj7hdW2I"
      }
    },
    {
      "cell_type": "markdown",
      "source": [
        "#Consumer"
      ],
      "metadata": {
        "id": "eYsp7-zEf5T6"
      }
    },
    {
      "cell_type": "markdown",
      "source": [
        "##part b: Storing stream data in database"
      ],
      "metadata": {
        "id": "d1-wsTw3f-Mx"
      }
    },
    {
      "cell_type": "markdown",
      "source": [
        "##Firebase "
      ],
      "metadata": {
        "id": "WnCDx9xTdiAL"
      }
    },
    {
      "cell_type": "markdown",
      "source": [
        "Establishing Connection  with fire base"
      ],
      "metadata": {
        "id": "7wOJmpoYdkWV"
      }
    },
    {
      "cell_type": "code",
      "execution_count": null,
      "metadata": {
        "id": "ViNcZAVBmni_"
      },
      "outputs": [],
      "source": [
        "from firebase import firebase\n",
        "FBconn=firebase.FirebaseApplication(\"https://bda-project-bb362-default-rtdb.firebaseio.com/\",None)\n",
        "FBconn2=firebase.FirebaseApplication(\"https://graph-f324a-default-rtdb.firebaseio.com/\",None)"
      ]
    },
    {
      "cell_type": "code",
      "execution_count": null,
      "metadata": {
        "id": "wBbqw2x3mnjD",
        "outputId": "9625823a-41ee-42e9-c30c-a43e332c5960"
      },
      "outputs": [
        {
          "data": {
            "text/plain": [
              "{'gender': 'data1',\n",
              " 'AGE': 'data2',\n",
              " 'actual_region': '',\n",
              " 'actual_hair_color': '',\n",
              " 'actual_spoken': '',\n",
              " 'actual_height_cm': '',\n",
              " 'actual_eye_color': '',\n",
              " 'actual_relation_to_alcohol': '',\n",
              " 'registration_year': '',\n",
              " 'actual_my_eyesight': ''}"
            ]
          },
          "execution_count": 5,
          "metadata": {},
          "output_type": "execute_result"
        }
      ],
      "source": [
        "lst=['gender', 'AGE', 'actual_region', 'actual_hair_color', 'actual_spoken',\n",
        "       'actual_height_cm', 'actual_eye_color', 'actual_relation_to_alcohol',\n",
        "       'registration_year', 'actual_my_eyesight']\n",
        "dict1"
      ]
    },
    {
      "cell_type": "markdown",
      "source": [
        "Creating table in database"
      ],
      "metadata": {
        "id": "_jW6-xb7eonn"
      }
    },
    {
      "cell_type": "code",
      "execution_count": null,
      "metadata": {
        "id": "4NvjcyyqmnjG"
      },
      "outputs": [],
      "source": [
        "for x in range(1,6):\n",
        "    FBconn.post(\"/MyTestData\",dict1)"
      ]
    },
    {
      "cell_type": "markdown",
      "source": [
        "Importing libraries"
      ],
      "metadata": {
        "id": "Nolg0lyEevb-"
      }
    },
    {
      "cell_type": "code",
      "execution_count": null,
      "metadata": {
        "id": "pKnRlD9omnjN"
      },
      "outputs": [],
      "source": [
        "from kafka import KafkaConsumer\n",
        "from json import loads\n",
        "import json\n",
        "import pandas as pd"
      ]
    },
    {
      "cell_type": "code",
      "execution_count": null,
      "metadata": {
        "id": "P0xtvBXCmnjU"
      },
      "outputs": [],
      "source": [
        "import numpy as np"
      ]
    },
    {
      "cell_type": "markdown",
      "source": [
        "#Creating Kafka Consumer"
      ],
      "metadata": {
        "id": "EgAilJ64ezRH"
      }
    },
    {
      "cell_type": "code",
      "execution_count": null,
      "metadata": {
        "id": "RBIUiFpRmnjY"
      },
      "outputs": [],
      "source": [
        "consumer = KafkaConsumer('test',bootstrap_servers='localhost:9092',value_deserializer=lambda x:loads(x.decode('utf-8')))"
      ]
    },
    {
      "cell_type": "markdown",
      "source": [
        "##Streaming Of Profile data and Storing data in database\n",
        "\n",
        "Storing data in MyTestData."
      ],
      "metadata": {
        "id": "7MuPvO_2fHXw"
      }
    },
    {
      "cell_type": "code",
      "execution_count": null,
      "metadata": {
        "scrolled": true,
        "id": "PoR1MmWSmnjm"
      },
      "outputs": [],
      "source": [
        "temp=[]\n",
        "for message in consumer:\n",
        "    if(message.value==\"display\"):\n",
        "        consumer.close()\n",
        "    else:\n",
        "        temp=str(message.value).split(',')\n",
        "        dict1 = {lst[0]: temp[0],lst[1]: temp[1],lst[2]:temp[2],lst[3]:temp[3],lst[4]:temp[4],lst[5]:temp[5],lst[6]:temp[6],lst[7]:temp[7],lst[8]:temp[8],lst[9]:temp[9]}\n",
        "        FBconn.post(\"/MyTestData\",dict1) ## Storing Data on database\n",
        "        print(message.value)\n",
        "\n"
      ]
    },
    {
      "cell_type": "markdown",
      "source": [
        "##Streaming of Relationship data and Storing in database"
      ],
      "metadata": {
        "id": "mIp3wN2NfYf1"
      }
    },
    {
      "cell_type": "code",
      "execution_count": null,
      "metadata": {
        "id": "P5xnVM8qmnj-"
      },
      "outputs": [],
      "source": [
        "temp=[]\n",
        "for message in consumer:\n",
        "    if(message.value==\"display\"):\n",
        "        consumer.close()\n",
        "    else:\n",
        "        temp=str(message.value).split(',')\n",
        "        dict1 = {\"Key\": temp[0],\"Value\": temp[1]}\n",
        "        FBconn2.post(\"/MyTestData\",dict1) ##Storing data on database\n",
        "        print(message.value)"
      ]
    },
    {
      "cell_type": "code",
      "execution_count": null,
      "metadata": {
        "id": "x7xfp4l7mnkE"
      },
      "outputs": [],
      "source": [
        ""
      ]
    },
    {
      "cell_type": "markdown",
      "source": [
        "#Analysis Report"
      ],
      "metadata": {
        "id": "oJbp44y9gVhQ"
      }
    },
    {
      "cell_type": "markdown",
      "source": [
        "\n",
        "\n",
        "In task 1 of Data streaming we are assigned to do data streaimg of pokec dataset which is about 1.6 GB and pokec dataset is not so organized and clean dataset. we performed pre-processing for that. \n",
        "\n",
        "we face problem while installation.Before installation of Kafka we needed JVM.but there server missing problem Firstly Kafka ran properly but nodes were blocking temporarily and every time we had to create new topic so we deleted the log files to overcome this problem.And we got to know that zookeeper should be firstly running form and we are dependent to create topic before creating producer consumer because both can not send and receive data respectively.We used Kafka Connectors but was getting many errors for the same. After that we learned about using python with kafka but we are dependent to use local setup like jupyter notebook. We couldn't use colab for kafka Streaming. \n",
        "\n",
        "We also faced Issues regarding storing big stream data in database, faced database connectivity issues. so we resolved that issue by using real time database which is Firebase Data base\n",
        "\n",
        "\n",
        "Tools: kafka,Java,Jupyter\n",
        "\n"
      ],
      "metadata": {
        "id": "MQ0Br5G0gjw2"
      }
    },
    {
      "cell_type": "markdown",
      "source": [
        ""
      ],
      "metadata": {
        "id": "q9J6OttTgpNB"
      }
    }
  ],
  "metadata": {
    "kernelspec": {
      "display_name": "Python 3 (ipykernel)",
      "language": "python",
      "name": "python3"
    },
    "language_info": {
      "codemirror_mode": {
        "name": "ipython",
        "version": 3
      },
      "file_extension": ".py",
      "mimetype": "text/x-python",
      "name": "python",
      "nbconvert_exporter": "python",
      "pygments_lexer": "ipython3",
      "version": "3.9.7"
    },
    "colab": {
      "name": "Task 1: Consumer.ipynb",
      "provenance": [],
      "collapsed_sections": [
        "7MuPvO_2fHXw"
      ]
    }
  },
  "nbformat": 4,
  "nbformat_minor": 0
}